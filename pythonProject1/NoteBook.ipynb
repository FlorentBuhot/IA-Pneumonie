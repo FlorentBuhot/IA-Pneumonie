{
 "cells": [
  {
   "cell_type": "markdown",
   "id": "93cadf8e",
   "metadata": {},
   "source": [
    "# Projet IA Pneumonie"
   ]
  },
  {
   "cell_type": "markdown",
   "id": "ab4a505c",
   "metadata": {},
   "source": [
    "### Chargement du premier Dataframe (non malade)"
   ]
  },
  {
   "cell_type": "code",
   "execution_count": 3,
   "id": "d83d63ab",
   "metadata": {},
   "outputs": [],
   "source": [
    "import numpy as np\n",
    "import pandas as pd\n",
    "import os\n",
    "import cv2\n",
    "from matplotlib import image as mpimg\n",
    "import skimage.transform as skimg\n",
    "import math;\n",
    "\n",
    "\n",
    "def load_image(folder):\n",
    "    images = []\n",
    "    for filename in os.listdir(folder):\n",
    "        img = mpimg.imread(os.path.join(folder, filename))\n",
    "        if img is not None:\n",
    "            #re = cv2.recize(img,(254,254))\n",
    "            re = skimg.resize(img, (254, 254))\n",
    "            images.append(re)\n",
    "    tab = np.array(images)\n",
    "    tab1 = tab.reshape(tab.shape[0],tab.shape[1] * tab.shape[2])\n",
    "    return tab1\n",
    "\n",
    "#test = load_image(\"../Ressource/sain\")\n",
    "#df = pd.DataFrame(test)\n",
    "#df.to_hdf('trainNormal.hdf', key='df',mode='w')"
   ]
  },
  {
   "cell_type": "code",
   "execution_count": 4,
   "id": "ba59391c",
   "metadata": {},
   "outputs": [
    {
     "name": "stdout",
     "output_type": "stream",
     "text": [
      "(1575, 64516)\n"
     ]
    }
   ],
   "source": [
    "df1 = pd.read_hdf('trainNormal.hdf',key='df')\n",
    "print(df1.shape)"
   ]
  },
  {
   "cell_type": "markdown",
   "id": "d7fd3cd0",
   "metadata": {},
   "source": [
    "### Chargement du second dataframe (malade)"
   ]
  },
  {
   "cell_type": "code",
   "execution_count": 3,
   "id": "a2048efc",
   "metadata": {},
   "outputs": [],
   "source": [
    "import cv2\n",
    "\n",
    "def load_image2(folder):\n",
    "    images = []\n",
    "    for filename in os.listdir(folder):\n",
    "        img = cv2.imread(os.path.join(folder, filename),cv2.IMREAD_GRAYSCALE)\n",
    "        if img is not None:\n",
    "            re = skimg.resize(img, (254, 254))\n",
    "            images.append(re)\n",
    "    tab = np.array(images)\n",
    "    tab1 = tab.reshape(tab.shape[0],tab.shape[1] * tab.shape[2])\n",
    "    return tab1\n",
    "\n",
    "#test = load_image2(\"../Ressource/malade\")\n",
    "#df2 = pd.DataFrame(test)\n",
    "#df2.to_hdf('trainPneumonia.hdf', key='df',mode='w')"
   ]
  },
  {
   "cell_type": "code",
   "execution_count": 5,
   "id": "ec2062e0",
   "metadata": {},
   "outputs": [
    {
     "name": "stdout",
     "output_type": "stream",
     "text": [
      "(3000, 64516)\n"
     ]
    }
   ],
   "source": [
    "df2 = pd.read_hdf('trainPneumonia.hdf',key='df')\n",
    "print(df2.shape)"
   ]
  },
  {
   "cell_type": "code",
   "execution_count": 6,
   "id": "ffff249a",
   "metadata": {},
   "outputs": [
    {
     "data": {
      "text/html": [
       "<div>\n",
       "<style scoped>\n",
       "    .dataframe tbody tr th:only-of-type {\n",
       "        vertical-align: middle;\n",
       "    }\n",
       "\n",
       "    .dataframe tbody tr th {\n",
       "        vertical-align: top;\n",
       "    }\n",
       "\n",
       "    .dataframe thead th {\n",
       "        text-align: right;\n",
       "    }\n",
       "</style>\n",
       "<table border=\"1\" class=\"dataframe\">\n",
       "  <thead>\n",
       "    <tr style=\"text-align: right;\">\n",
       "      <th></th>\n",
       "      <th>0</th>\n",
       "      <th>1</th>\n",
       "      <th>2</th>\n",
       "      <th>3</th>\n",
       "      <th>4</th>\n",
       "      <th>5</th>\n",
       "      <th>6</th>\n",
       "      <th>7</th>\n",
       "      <th>8</th>\n",
       "      <th>9</th>\n",
       "      <th>...</th>\n",
       "      <th>64507</th>\n",
       "      <th>64508</th>\n",
       "      <th>64509</th>\n",
       "      <th>64510</th>\n",
       "      <th>64511</th>\n",
       "      <th>64512</th>\n",
       "      <th>64513</th>\n",
       "      <th>64514</th>\n",
       "      <th>64515</th>\n",
       "      <th>label</th>\n",
       "    </tr>\n",
       "  </thead>\n",
       "  <tbody>\n",
       "    <tr>\n",
       "      <th>0</th>\n",
       "      <td>4.745635e-01</td>\n",
       "      <td>0.484991</td>\n",
       "      <td>0.499945</td>\n",
       "      <td>0.504004</td>\n",
       "      <td>0.504841</td>\n",
       "      <td>0.513311</td>\n",
       "      <td>0.525147</td>\n",
       "      <td>0.534823</td>\n",
       "      <td>0.538945</td>\n",
       "      <td>0.540905</td>\n",
       "      <td>...</td>\n",
       "      <td>0.252148</td>\n",
       "      <td>0.303939</td>\n",
       "      <td>3.920109e-01</td>\n",
       "      <td>0.526666</td>\n",
       "      <td>0.697980</td>\n",
       "      <td>0.828577</td>\n",
       "      <td>0.847190</td>\n",
       "      <td>0.835010</td>\n",
       "      <td>0.646233</td>\n",
       "      <td>0</td>\n",
       "    </tr>\n",
       "    <tr>\n",
       "      <th>1</th>\n",
       "      <td>9.923810e-02</td>\n",
       "      <td>0.109494</td>\n",
       "      <td>0.106155</td>\n",
       "      <td>0.103974</td>\n",
       "      <td>0.104765</td>\n",
       "      <td>0.106713</td>\n",
       "      <td>0.100356</td>\n",
       "      <td>0.095201</td>\n",
       "      <td>0.095213</td>\n",
       "      <td>0.094686</td>\n",
       "      <td>...</td>\n",
       "      <td>0.148243</td>\n",
       "      <td>0.150170</td>\n",
       "      <td>1.488780e-01</td>\n",
       "      <td>0.149956</td>\n",
       "      <td>0.152289</td>\n",
       "      <td>0.157913</td>\n",
       "      <td>0.151286</td>\n",
       "      <td>0.152344</td>\n",
       "      <td>0.145834</td>\n",
       "      <td>0</td>\n",
       "    </tr>\n",
       "    <tr>\n",
       "      <th>2</th>\n",
       "      <td>2.199632e-07</td>\n",
       "      <td>0.000262</td>\n",
       "      <td>0.007212</td>\n",
       "      <td>0.031274</td>\n",
       "      <td>0.067897</td>\n",
       "      <td>0.105348</td>\n",
       "      <td>0.159279</td>\n",
       "      <td>0.204231</td>\n",
       "      <td>0.236606</td>\n",
       "      <td>0.268677</td>\n",
       "      <td>...</td>\n",
       "      <td>0.000000</td>\n",
       "      <td>0.000000</td>\n",
       "      <td>0.000000e+00</td>\n",
       "      <td>0.000000</td>\n",
       "      <td>0.000000</td>\n",
       "      <td>0.000000</td>\n",
       "      <td>0.000000</td>\n",
       "      <td>0.000000</td>\n",
       "      <td>0.000000</td>\n",
       "      <td>0</td>\n",
       "    </tr>\n",
       "    <tr>\n",
       "      <th>3</th>\n",
       "      <td>3.027003e-01</td>\n",
       "      <td>0.305875</td>\n",
       "      <td>0.319769</td>\n",
       "      <td>0.323062</td>\n",
       "      <td>0.324551</td>\n",
       "      <td>0.318564</td>\n",
       "      <td>0.319471</td>\n",
       "      <td>0.321305</td>\n",
       "      <td>0.325040</td>\n",
       "      <td>0.322997</td>\n",
       "      <td>...</td>\n",
       "      <td>0.178185</td>\n",
       "      <td>0.127743</td>\n",
       "      <td>7.326164e-02</td>\n",
       "      <td>0.043363</td>\n",
       "      <td>0.010860</td>\n",
       "      <td>0.000091</td>\n",
       "      <td>0.000000</td>\n",
       "      <td>0.000000</td>\n",
       "      <td>0.000000</td>\n",
       "      <td>0</td>\n",
       "    </tr>\n",
       "    <tr>\n",
       "      <th>4</th>\n",
       "      <td>5.295596e-01</td>\n",
       "      <td>0.453535</td>\n",
       "      <td>0.392269</td>\n",
       "      <td>0.381753</td>\n",
       "      <td>0.407985</td>\n",
       "      <td>0.510689</td>\n",
       "      <td>0.604765</td>\n",
       "      <td>0.642700</td>\n",
       "      <td>0.647125</td>\n",
       "      <td>0.640861</td>\n",
       "      <td>...</td>\n",
       "      <td>0.010286</td>\n",
       "      <td>0.000373</td>\n",
       "      <td>1.345112e-07</td>\n",
       "      <td>0.000000</td>\n",
       "      <td>0.000000</td>\n",
       "      <td>0.000000</td>\n",
       "      <td>0.000000</td>\n",
       "      <td>0.000000</td>\n",
       "      <td>0.000000</td>\n",
       "      <td>0</td>\n",
       "    </tr>\n",
       "  </tbody>\n",
       "</table>\n",
       "<p>5 rows × 64517 columns</p>\n",
       "</div>"
      ],
      "text/plain": [
       "              0         1         2         3         4         5         6  \\\n",
       "0  4.745635e-01  0.484991  0.499945  0.504004  0.504841  0.513311  0.525147   \n",
       "1  9.923810e-02  0.109494  0.106155  0.103974  0.104765  0.106713  0.100356   \n",
       "2  2.199632e-07  0.000262  0.007212  0.031274  0.067897  0.105348  0.159279   \n",
       "3  3.027003e-01  0.305875  0.319769  0.323062  0.324551  0.318564  0.319471   \n",
       "4  5.295596e-01  0.453535  0.392269  0.381753  0.407985  0.510689  0.604765   \n",
       "\n",
       "          7         8         9  ...     64507     64508         64509  \\\n",
       "0  0.534823  0.538945  0.540905  ...  0.252148  0.303939  3.920109e-01   \n",
       "1  0.095201  0.095213  0.094686  ...  0.148243  0.150170  1.488780e-01   \n",
       "2  0.204231  0.236606  0.268677  ...  0.000000  0.000000  0.000000e+00   \n",
       "3  0.321305  0.325040  0.322997  ...  0.178185  0.127743  7.326164e-02   \n",
       "4  0.642700  0.647125  0.640861  ...  0.010286  0.000373  1.345112e-07   \n",
       "\n",
       "      64510     64511     64512     64513     64514     64515  label  \n",
       "0  0.526666  0.697980  0.828577  0.847190  0.835010  0.646233      0  \n",
       "1  0.149956  0.152289  0.157913  0.151286  0.152344  0.145834      0  \n",
       "2  0.000000  0.000000  0.000000  0.000000  0.000000  0.000000      0  \n",
       "3  0.043363  0.010860  0.000091  0.000000  0.000000  0.000000      0  \n",
       "4  0.000000  0.000000  0.000000  0.000000  0.000000  0.000000      0  \n",
       "\n",
       "[5 rows x 64517 columns]"
      ]
     },
     "execution_count": 6,
     "metadata": {},
     "output_type": "execute_result"
    }
   ],
   "source": [
    "import sklearn\n",
    "#df1Normalized['label'] = 0\n",
    "#df2Normalized['label'] = 1\n",
    "df1['label']=0\n",
    "df2['label']=1\n",
    "X = pd.concat([df1,df2])\n",
    "X.reset_index(inplace=True,drop=True)\n",
    "X.head()"
   ]
  },
  {
   "cell_type": "code",
   "execution_count": 7,
   "id": "e50b5978",
   "metadata": {},
   "outputs": [],
   "source": [
    "X = sklearn.utils.shuffle(X)\n",
    "Y = X['label']\n",
    "del X['label']"
   ]
  },
  {
   "cell_type": "code",
   "execution_count": 8,
   "id": "67ced6b6",
   "metadata": {},
   "outputs": [
    {
     "name": "stdout",
     "output_type": "stream",
     "text": [
      "(3431, 64516)\n",
      "(1144, 64516)\n",
      "Pourcentage =  0.7499453551912568\n"
     ]
    }
   ],
   "source": [
    "from sklearn.model_selection import train_test_split\n",
    "Xtrain,Xtest,Ytrain,Ytest = train_test_split(X,Y,test_size=0.25,random_state=0)\n",
    "print(Xtrain.shape)\n",
    "print(Xtest.shape)\n",
    "print('Pourcentage = ',Xtrain.shape[0]/X.shape[0])"
   ]
  },
  {
   "cell_type": "markdown",
   "id": "a756b77c",
   "metadata": {},
   "source": [
    "# Différents modèles "
   ]
  },
  {
   "cell_type": "markdown",
   "id": "31fa87d3",
   "metadata": {},
   "source": [
    "## Arbre de décision"
   ]
  },
  {
   "cell_type": "code",
   "execution_count": 8,
   "id": "eb8c6125",
   "metadata": {},
   "outputs": [],
   "source": [
    "from sklearn.tree import DecisionTreeClassifier\n",
    "from sklearn.metrics import accuracy_score\n",
    "from sklearn import metrics"
   ]
  },
  {
   "cell_type": "code",
   "execution_count": null,
   "id": "56b1cece",
   "metadata": {},
   "outputs": [
    {
     "name": "stdout",
     "output_type": "stream",
     "text": [
      "1  :  0.784965034965035\n",
      "2  :  0.8076923076923077\n",
      "3  :  0.8085664335664335\n",
      "4  :  0.8295454545454546\n",
      "5  :  0.8601398601398601\n"
     ]
    }
   ],
   "source": [
    "tabResults = []\n",
    "x = []\n",
    "j=1\n",
    "for i in range(1,20):\n",
    "    Arbre_decision = DecisionTreeClassifier(max_depth=i)\n",
    "    clf = Arbre_decision.fit(Xtrain,Ytrain)\n",
    "    Ypredict = clf.predict(Xtest)\n",
    "    print(i,' : ',accuracy_score(Ytest,Ypredict))\n",
    "    tabResults.append(accuracy_score(Ytest,Ypredict))\n",
    "    x.append(i)\n",
    "    j+=1\n"
   ]
  },
  {
   "cell_type": "code",
   "execution_count": null,
   "id": "88fdd047",
   "metadata": {},
   "outputs": [],
   "source": [
    "import matplotlib.pyplot as plt\n",
    "plt.plot(x,tabResults)\n",
    "print(tabResults.index(max(tabResults))+1,' : ',max(tabResults))"
   ]
  },
  {
   "cell_type": "markdown",
   "id": "8587a663",
   "metadata": {},
   "source": [
    "## Plus proche voisins"
   ]
  },
  {
   "cell_type": "code",
   "execution_count": 53,
   "id": "562d7ce4",
   "metadata": {},
   "outputs": [],
   "source": [
    "from sklearn.neighbors import KNeighborsClassifier\n",
    "from sklearn.metrics import accuracy_score\n",
    "from sklearn import metrics"
   ]
  },
  {
   "cell_type": "code",
   "execution_count": 54,
   "id": "02a47867",
   "metadata": {},
   "outputs": [
    {
     "name": "stdout",
     "output_type": "stream",
     "text": [
      "1  :  0.8784965034965035\n",
      "2  :  0.8898601398601399\n",
      "3  :  0.8977272727272727\n",
      "4  :  0.9020979020979021\n",
      "5  :  0.9038461538461539\n",
      "6  :  0.9082167832167832\n",
      "7  :  0.9038461538461539\n",
      "8  :  0.9090909090909091\n",
      "9  :  0.9003496503496503\n",
      "10  :  0.9082167832167832\n",
      "11  :  0.9055944055944056\n",
      "12  :  0.9047202797202797\n",
      "13  :  0.9012237762237763\n",
      "14  :  0.9047202797202797\n",
      "15  :  0.8977272727272727\n",
      "16  :  0.9003496503496503\n",
      "17  :  0.8942307692307693\n",
      "18  :  0.8951048951048951\n",
      "19  :  0.8924825174825175\n"
     ]
    }
   ],
   "source": [
    "tabResults = []\n",
    "x = []\n",
    "for i in range(1,20):\n",
    "    KNN = KNeighborsClassifier(i)\n",
    "    clf = KNN.fit(Xtrain,Ytrain)\n",
    "    Ypredict = clf.predict(Xtest)\n",
    "    print(i,' : ',accuracy_score(Ytest,Ypredict))\n",
    "    tabResults.append(accuracy_score(Ytest,Ypredict))\n",
    "    x.append(i)"
   ]
  },
  {
   "cell_type": "code",
   "execution_count": 55,
   "id": "ea114c98",
   "metadata": {},
   "outputs": [
    {
     "name": "stdout",
     "output_type": "stream",
     "text": [
      "8  :  0.9090909090909091\n"
     ]
    },
    {
     "data": {
      "image/png": "[encoded data removed]",
      "text/plain": [
       "<Figure size 432x288 with 1 Axes>"
      ]
     },
     "metadata": {
      "needs_background": "light"
     },
     "output_type": "display_data"
    }
   ],
   "source": [
    "import matplotlib.pyplot as plt\n",
    "plt.plot(x,tabResults)\n",
    "print(tabResults.index(max(tabResults))+1,' : ',max(tabResults))"
   ]
  },
  {
   "cell_type": "markdown",
   "id": "f0fbf856",
   "metadata": {},
   "source": [
    "## SVM"
   ]
  },
  {
   "cell_type": "code",
   "execution_count": null,
   "id": "2b52e7b3",
   "metadata": {},
   "outputs": [],
   "source": [
    "from sklearn import svm\n",
    "from sklearn.metrics import accuracy_score\n",
    "from sklearn import metrics"
   ]
  },
  {
   "cell_type": "code",
   "execution_count": null,
   "id": "e9a8c44d",
   "metadata": {},
   "outputs": [],
   "source": [
    "tabResults = []\n",
    "X = []\n",
    "j=1\n",
    "for i in np.arange(0.1,1.1,0.1):\n",
    "    clf = svm.SVC(gamma=i)\n",
    "    clf.fit(Xtrain,Ytrain)\n",
    "    Ypredict = clf.predict(Xtest)\n",
    "    print(j,') ',i,' : ',accuracy_score(Ytest,Ypredict))\n",
    "    tabResults.append(accuracy_score(Ytest,Ypredict))\n",
    "    X.append(j)\n",
    "    j+=1"
   ]
  },
  {
   "cell_type": "code",
   "execution_count": null,
   "id": "23c01862",
   "metadata": {},
   "outputs": [],
   "source": [
    "import matplotlib.pyplot as plt\n",
    "plt.plot(x,tabResults)\n",
    "print(tabResults.index(max(tabResults))+1,' : ',max(tabResults))"
   ]
  },
  {
   "cell_type": "markdown",
   "id": "4182e17d",
   "metadata": {},
   "source": [
    "## Réseau neronal"
   ]
  },
  {
   "cell_type": "code",
   "execution_count": 11,
   "id": "66da7d46",
   "metadata": {},
   "outputs": [],
   "source": [
    "from sklearn.metrics import accuracy_score\n",
    "from sklearn.neural_network import MLPClassifier"
   ]
  },
  {
   "cell_type": "code",
   "execution_count": 15,
   "id": "a57bb306",
   "metadata": {},
   "outputs": [
    {
     "name": "stdout",
     "output_type": "stream",
     "text": [
      "3 ,  3  :  0.6896853146853147\n",
      "3 ,  4  :  0.9274475524475524\n",
      "3 ,  5  :  0.6896853146853147\n",
      "3 ,  6  :  0.6896853146853147\n",
      "4 ,  3  :  0.9318181818181818\n",
      "4 ,  4  :  0.6896853146853147\n"
     ]
    },
    {
     "name": "stderr",
     "output_type": "stream",
     "text": [
      "C:\\Users\\flore\\AppData\\Local\\Packages\\PythonSoftwareFoundation.Python.3.9_qbz5n2kfra8p0\\LocalCache\\local-packages\\Python39\\site-packages\\sklearn\\neural_network\\_multilayer_perceptron.py:549: ConvergenceWarning: lbfgs failed to converge (status=1):\n",
      "STOP: TOTAL NO. of ITERATIONS REACHED LIMIT.\n",
      "\n",
      "Increase the number of iterations (max_iter) or scale the data as shown in:\n",
      "    https://scikit-learn.org/stable/modules/preprocessing.html\n",
      "  self.n_iter_ = _check_optimize_result(\"lbfgs\", opt_res, self.max_iter)\n"
     ]
    },
    {
     "name": "stdout",
     "output_type": "stream",
     "text": [
      "4 ,  5  :  0.9274475524475524\n",
      "4 ,  6  :  0.9309440559440559\n"
     ]
    },
    {
     "name": "stderr",
     "output_type": "stream",
     "text": [
      "C:\\Users\\flore\\AppData\\Local\\Packages\\PythonSoftwareFoundation.Python.3.9_qbz5n2kfra8p0\\LocalCache\\local-packages\\Python39\\site-packages\\sklearn\\neural_network\\_multilayer_perceptron.py:549: ConvergenceWarning: lbfgs failed to converge (status=1):\n",
      "STOP: TOTAL NO. of ITERATIONS REACHED LIMIT.\n",
      "\n",
      "Increase the number of iterations (max_iter) or scale the data as shown in:\n",
      "    https://scikit-learn.org/stable/modules/preprocessing.html\n",
      "  self.n_iter_ = _check_optimize_result(\"lbfgs\", opt_res, self.max_iter)\n"
     ]
    },
    {
     "name": "stdout",
     "output_type": "stream",
     "text": [
      "5 ,  3  :  0.9274475524475524\n"
     ]
    },
    {
     "name": "stderr",
     "output_type": "stream",
     "text": [
      "C:\\Users\\flore\\AppData\\Local\\Packages\\PythonSoftwareFoundation.Python.3.9_qbz5n2kfra8p0\\LocalCache\\local-packages\\Python39\\site-packages\\sklearn\\neural_network\\_multilayer_perceptron.py:549: ConvergenceWarning: lbfgs failed to converge (status=1):\n",
      "STOP: TOTAL NO. of ITERATIONS REACHED LIMIT.\n",
      "\n",
      "Increase the number of iterations (max_iter) or scale the data as shown in:\n",
      "    https://scikit-learn.org/stable/modules/preprocessing.html\n",
      "  self.n_iter_ = _check_optimize_result(\"lbfgs\", opt_res, self.max_iter)\n"
     ]
    },
    {
     "name": "stdout",
     "output_type": "stream",
     "text": [
      "5 ,  4  :  0.9300699300699301\n",
      "5 ,  5  :  0.9256993006993007\n",
      "5 ,  6  :  0.9274475524475524\n"
     ]
    },
    {
     "name": "stderr",
     "output_type": "stream",
     "text": [
      "C:\\Users\\flore\\AppData\\Local\\Packages\\PythonSoftwareFoundation.Python.3.9_qbz5n2kfra8p0\\LocalCache\\local-packages\\Python39\\site-packages\\sklearn\\neural_network\\_multilayer_perceptron.py:549: ConvergenceWarning: lbfgs failed to converge (status=1):\n",
      "STOP: TOTAL NO. of ITERATIONS REACHED LIMIT.\n",
      "\n",
      "Increase the number of iterations (max_iter) or scale the data as shown in:\n",
      "    https://scikit-learn.org/stable/modules/preprocessing.html\n",
      "  self.n_iter_ = _check_optimize_result(\"lbfgs\", opt_res, self.max_iter)\n"
     ]
    },
    {
     "name": "stdout",
     "output_type": "stream",
     "text": [
      "6 ,  3  :  0.9326923076923077\n"
     ]
    },
    {
     "name": "stderr",
     "output_type": "stream",
     "text": [
      "C:\\Users\\flore\\AppData\\Local\\Packages\\PythonSoftwareFoundation.Python.3.9_qbz5n2kfra8p0\\LocalCache\\local-packages\\Python39\\site-packages\\sklearn\\neural_network\\_multilayer_perceptron.py:549: ConvergenceWarning: lbfgs failed to converge (status=1):\n",
      "STOP: TOTAL NO. of ITERATIONS REACHED LIMIT.\n",
      "\n",
      "Increase the number of iterations (max_iter) or scale the data as shown in:\n",
      "    https://scikit-learn.org/stable/modules/preprocessing.html\n",
      "  self.n_iter_ = _check_optimize_result(\"lbfgs\", opt_res, self.max_iter)\n"
     ]
    },
    {
     "name": "stdout",
     "output_type": "stream",
     "text": [
      "6 ,  4  :  0.9361888111888111\n",
      "6 ,  5  :  0.9291958041958042\n",
      "6 ,  6  :  0.9300699300699301\n"
     ]
    }
   ],
   "source": [
    "tabResults = []\n",
    "X = []\n",
    "j=1\n",
    "\n",
    "for i in range(3,7):\n",
    "    for k in range(3,7):\n",
    "        clf = MLPClassifier(solver='lbfgs', alpha=1e-5, hidden_layer_sizes=(i, j), random_state=1)\n",
    "        clf.fit(Xtrain, Ytrain)\n",
    "        Ypredict = clf.predict(Xtest)\n",
    "        print(i,', ',k,' : ',accuracy_score(Ytest,Ypredict))\n",
    "        tabResults.append(accuracy_score(Ytest,Ypredict))\n",
    "        X.append(j)\n",
    "        j+=1"
   ]
  },
  {
   "cell_type": "code",
   "execution_count": 16,
   "id": "ac12f028",
   "metadata": {},
   "outputs": [
    {
     "name": "stdout",
     "output_type": "stream",
     "text": [
      "14  :  0.9361888111888111\n"
     ]
    },
    {
     "data": {
      "image/png": "[encoded data removed]",
      "text/plain": [
       "<Figure size 432x288 with 1 Axes>"
      ]
     },
     "metadata": {
      "needs_background": "light"
     },
     "output_type": "display_data"
    }
   ],
   "source": [
    "import matplotlib.pyplot as plt\n",
    "plt.plot(X,tabResults)\n",
    "print(tabResults.index(max(tabResults))+1,' : ',max(tabResults))"
   ]
  },
  {
   "cell_type": "code",
   "execution_count": null,
   "id": "ac406b11",
   "metadata": {},
   "outputs": [],
   "source": []
  }
 ],
 "metadata": {
  "kernelspec": {
   "display_name": "Python 3 (ipykernel)",
   "language": "python",
   "name": "python3"
  },
  "language_info": {
   "codemirror_mode": {
    "name": "ipython",
    "version": 3
   },
   "file_extension": ".py",
   "mimetype": "text/x-python",
   "name": "python",
   "nbconvert_exporter": "python",
   "pygments_lexer": "ipython3",
   "version": "3.9.9"
  }
 },
 "nbformat": 4,
 "nbformat_minor": 5
}
